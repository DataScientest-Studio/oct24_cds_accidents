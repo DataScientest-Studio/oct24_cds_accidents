{
 "cells": [
  {
   "cell_type": "code",
   "execution_count": 1,
   "id": "3edba380-54b2-4067-81b4-09d2a0bebaca",
   "metadata": {
    "id": "3edba380-54b2-4067-81b4-09d2a0bebaca"
   },
   "outputs": [],
   "source": [
    "# Importer les librairies nécessaires\n",
    "import pandas as pd\n",
    "import numpy as np\n",
    "import matplotlib.pyplot as plt\n",
    "from sklearn.preprocessing import StandardScaler\n",
    "from imblearn.under_sampling import RandomUnderSampler\n",
    "from sklearn.linear_model import LogisticRegression\n",
    "from sklearn.metrics import accuracy_score, classification_report\n",
    "from sklearn.model_selection import GridSearchCV,train_test_split\n",
    "from sklearn.metrics import make_scorer, precision_score, recall_score\n",
    "from sklearn.ensemble import RandomForestClassifier\n",
    "from xgboost import XGBClassifier\n",
    "from sklearn.neighbors import KNeighborsClassifier\n",
    "from sklearn.model_selection import RandomizedSearchCV\n",
    "from sklearn.svm import SVC\n",
    "from sklearn.model_selection import cross_val_score, StratifiedKFold\n",
    "import shap\n",
    "import seaborn as sns\n",
    "from scipy.stats import chi2_contingency\n",
    "%matplotlib inline\n",
    "sns.set_palette(\"viridis\")"
   ]
  },
  {
   "cell_type": "markdown",
   "id": "80c60ba9-9daf-4ecd-9111-aa5ec3cdfd42",
   "metadata": {
    "id": "80c60ba9-9daf-4ecd-9111-aa5ec3cdfd42"
   },
   "source": [
    "# Analyse exploratoire (données regroupées)"
   ]
  },
  {
   "cell_type": "code",
   "execution_count": null,
   "id": "b24f6768-89e1-4fb5-adc7-9d586891401f",
   "metadata": {
    "colab": {
     "base_uri": "https://localhost:8080/",
     "height": 373
    },
    "executionInfo": {
     "elapsed": 138,
     "status": "error",
     "timestamp": 1742928712526,
     "user": {
      "displayName": "Tiye Joseph",
      "userId": "11185261374369605549"
     },
     "user_tz": -60
    },
    "id": "b24f6768-89e1-4fb5-adc7-9d586891401f",
    "outputId": "78508d0d-cdae-482a-9c3c-aebd08ac5ed3"
   },
   "outputs": [
    {
     "name": "stderr",
     "output_type": "stream",
     "text": [
      "C:\\Users\\hayat\\AppData\\Local\\Temp\\ipykernel_16508\\2562715691.py:2: DtypeWarning: Columns (8) have mixed types. Specify dtype option on import or set low_memory=False.\n",
      "  accidents=pd.read_csv('accidents.csv', index_col='Num_Acc')\n"
     ]
    },
    {
     "name": "stdout",
     "output_type": "stream",
     "text": [
      "<class 'pandas.core.frame.DataFrame'>\n",
      "Index: 764600 entries, 201800000001 to 202200055302\n",
      "Data columns (total 27 columns):\n",
      " #   Column         Non-Null Count   Dtype  \n",
      "---  ------         --------------   -----  \n",
      " 0   an             764600 non-null  int64  \n",
      " 1   mois           764600 non-null  int64  \n",
      " 2   lum            764600 non-null  int64  \n",
      " 3   agg            764600 non-null  int64  \n",
      " 4   int            764600 non-null  int64  \n",
      " 5   atm            764600 non-null  float64\n",
      " 6   col            764600 non-null  float64\n",
      " 7   dep            764600 non-null  object \n",
      " 8   heure          764600 non-null  int64  \n",
      " 9   jour_semaine   764600 non-null  int64  \n",
      " 10  catr           764600 non-null  float64\n",
      " 11  circ           764600 non-null  float64\n",
      " 12  surf           764600 non-null  float64\n",
      " 13  infra          764600 non-null  float64\n",
      " 14  situ           764600 non-null  float64\n",
      " 15  obs            764600 non-null  float64\n",
      " 16  obsm           764600 non-null  float64\n",
      " 17  choc           764600 non-null  float64\n",
      " 18  manv           764600 non-null  float64\n",
      " 19  catv_modifié   764600 non-null  float64\n",
      " 20  place          764600 non-null  float64\n",
      " 21  catu           764600 non-null  float64\n",
      " 22  grav           764600 non-null  float64\n",
      " 23  sexe           764600 non-null  float64\n",
      " 24  trajet         764600 non-null  float64\n",
      " 25  secu_combined  764600 non-null  float64\n",
      " 26  age            764600 non-null  float64\n",
      "dtypes: float64(19), int64(7), object(1)\n",
      "memory usage: 163.3+ MB\n"
     ]
    }
   ],
   "source": [
    "# Télécharger le fichier accident avec comme index Num ACC (Numéro d'identifiant de l’accident)\n",
    "accidents=pd.read_csv('accidents.csv', index_col='Num_Acc')\n",
    "\n",
    "# Première aperçu des données\n",
    "accidents.info()"
   ]
  },
  {
   "cell_type": "code",
   "execution_count": 3,
   "id": "657c46c8",
   "metadata": {
    "id": "657c46c8",
    "outputId": "5be813ea-26ce-44a4-eb5e-d3ad1cf54b54"
   },
   "outputs": [
    {
     "data": {
      "text/plain": [
       "grav\n",
       "1.0    45.062647\n",
       "4.0    37.997253\n",
       "3.0    14.541721\n",
       "2.0     2.398378\n",
       "Name: proportion, dtype: float64"
      ]
     },
     "execution_count": 3,
     "metadata": {},
     "output_type": "execute_result"
    }
   ],
   "source": [
    "accidents['grav'].value_counts(normalize=True)*100"
   ]
  },
  {
   "cell_type": "markdown",
   "id": "b5a465e0",
   "metadata": {},
   "source": [
    "# Transformation de la cible multiclasse en classe binaire"
   ]
  },
  {
   "cell_type": "code",
   "execution_count": 3,
   "id": "902aa21c",
   "metadata": {},
   "outputs": [],
   "source": [
    "accidents['grav']=accidents['grav'].replace(1.0,0)\n",
    "accidents['grav']=accidents['grav'].replace(4.0,0)\n",
    "accidents['grav']=accidents['grav'].replace(2.0,1)\n",
    "accidents['grav']=accidents['grav'].replace(3.0,1)"
   ]
  },
  {
   "cell_type": "code",
   "execution_count": 4,
   "id": "bc88b8bf",
   "metadata": {},
   "outputs": [
    {
     "data": {
      "text/plain": [
       "grav\n",
       "0.0    635076\n",
       "1.0    129524\n",
       "Name: count, dtype: int64"
      ]
     },
     "execution_count": 4,
     "metadata": {},
     "output_type": "execute_result"
    }
   ],
   "source": [
    "accidents['grav'].value_counts()"
   ]
  },
  {
   "cell_type": "markdown",
   "id": "57cbbc28-23ba-4b2e-a584-b2a7f57a74bd",
   "metadata": {
    "id": "57cbbc28-23ba-4b2e-a584-b2a7f57a74bd"
   },
   "source": [
    "# Séparation du jeu de données"
   ]
  },
  {
   "cell_type": "code",
   "execution_count": null,
   "id": "d77229a7",
   "metadata": {
    "id": "d77229a7"
   },
   "outputs": [],
   "source": [
    "# Séparation des variables explicatives (noté X) et la cible (noté y)\n",
    "X=accidents.drop('grav', axis=1)\n",
    "y=accidents['grav']\n",
    "\n",
    "# Diviser les données en un ensemble d'entrainement et de test\n",
    "X_train, X_test, y_train, y_test = train_test_split(X, y, test_size = 0.2, random_state=42)"
   ]
  },
  {
   "cell_type": "markdown",
   "id": "f203b20a",
   "metadata": {
    "id": "f203b20a"
   },
   "source": [
    "# Encodage des variables"
   ]
  },
  {
   "cell_type": "code",
   "execution_count": 6,
   "id": "be8483d8",
   "metadata": {
    "id": "be8483d8"
   },
   "outputs": [],
   "source": [
    "# Variables à encoder avec One-Hot Encoding\n",
    "var_onehot = ['lum', 'agg', 'col', 'jour_semaine', 'catr', 'circ','situ',\n",
    "                'obsm', 'catu', 'sexe', 'trajet', 'secu_combined']\n",
    "\n",
    "# Variables à encoder avec Frequency Encoding\n",
    "var_freq = ['dep', 'manv', 'obs', 'int', 'atm','surf', 'infra', 'choc', 'catv_modifié', 'place']\n",
    "\n",
    "# Initialiser l'encodeur One-Hot\n",
    "from sklearn.preprocessing import OneHotEncoder\n",
    "enc_onehot = OneHotEncoder(sparse_output=False, drop=None)\n",
    "\n",
    "# Appliquer l'encodage et convertir en DataFrame\n",
    "X_train_enc = enc_onehot.fit_transform(X_train[var_onehot])\n",
    "X_train_enc_df = pd.DataFrame(X_train_enc, columns=enc_onehot.get_feature_names_out(var_onehot), index=X_train.index)\n",
    "\n",
    "# Concaténer avec le DataFrame original\n",
    "X_train_enc_df = pd.concat([X_train.drop(columns=var_onehot), X_train_enc_df], axis=1)"
   ]
  },
  {
   "cell_type": "code",
   "execution_count": 7,
   "id": "371a4944",
   "metadata": {
    "id": "371a4944",
    "outputId": "664a4323-5d00-47df-e7eb-7f43495f3fee"
   },
   "outputs": [
    {
     "name": "stdout",
     "output_type": "stream",
     "text": [
      "                an  mois  int  atm dep  heure  surf  infra  obs  choc  ...  \\\n",
      "Num_Acc                                                                ...   \n",
      "201900029512  2019    12    1  8.0  75     16   2.0    1.0  0.0   4.0  ...   \n",
      "202200029834  2022    11    1  1.0  93     11   1.0    0.0  0.0   1.0  ...   \n",
      "201900037702  2019     4    1  1.0  38     17   1.0    9.0  0.0   3.0  ...   \n",
      "202100036445  2021     6    1  1.0  13     17   1.0    0.0  0.0   3.0  ...   \n",
      "202200027255  2022     4    1  1.0  26     16   1.0    0.0  1.0   1.0  ...   \n",
      "\n",
      "              trajet_2.0  trajet_3.0  trajet_4.0  trajet_5.0  trajet_9.0  \\\n",
      "Num_Acc                                                                    \n",
      "201900029512         0.0         0.0         1.0         0.0         0.0   \n",
      "202200029834         0.0         0.0         0.0         0.0         0.0   \n",
      "201900037702         0.0         0.0         0.0         0.0         0.0   \n",
      "202100036445         0.0         0.0         0.0         0.0         0.0   \n",
      "202200027255         0.0         0.0         0.0         1.0         0.0   \n",
      "\n",
      "              secu_combined_0.0  secu_combined_1.0  secu_combined_2.0  \\\n",
      "Num_Acc                                                                 \n",
      "201900029512                0.0                1.0                0.0   \n",
      "202200029834                0.0                1.0                0.0   \n",
      "201900037702                0.0                0.0                0.0   \n",
      "202100036445                0.0                1.0                0.0   \n",
      "202200027255                0.0                1.0                0.0   \n",
      "\n",
      "              secu_combined_3.0  secu_combined_4.0  \n",
      "Num_Acc                                             \n",
      "201900029512                0.0                0.0  \n",
      "202200029834                0.0                0.0  \n",
      "201900037702                0.0                1.0  \n",
      "202100036445                0.0                0.0  \n",
      "202200027255                0.0                0.0  \n",
      "\n",
      "[5 rows x 79 columns]\n"
     ]
    }
   ],
   "source": [
    "print(X_train_enc_df.head())"
   ]
  },
  {
   "cell_type": "code",
   "execution_count": 8,
   "id": "5e4e3d6d",
   "metadata": {
    "id": "5e4e3d6d",
    "outputId": "d2e02684-5498-4073-9462-3eaec4b220ac"
   },
   "outputs": [
    {
     "name": "stdout",
     "output_type": "stream",
     "text": [
      "<class 'pandas.core.frame.DataFrame'>\n",
      "Index: 611680 entries, 201900029512 to 201800031078\n",
      "Data columns (total 79 columns):\n",
      " #   Column             Non-Null Count   Dtype  \n",
      "---  ------             --------------   -----  \n",
      " 0   an                 611680 non-null  int64  \n",
      " 1   mois               611680 non-null  int64  \n",
      " 2   int                611680 non-null  float64\n",
      " 3   atm                611680 non-null  float64\n",
      " 4   dep                611680 non-null  float64\n",
      " 5   heure              611680 non-null  int64  \n",
      " 6   surf               611680 non-null  float64\n",
      " 7   infra              611680 non-null  float64\n",
      " 8   obs                611680 non-null  float64\n",
      " 9   choc               611680 non-null  float64\n",
      " 10  manv               611680 non-null  float64\n",
      " 11  catv_modifié       611680 non-null  float64\n",
      " 12  place              611680 non-null  float64\n",
      " 13  age                611680 non-null  float64\n",
      " 14  lum_1              611680 non-null  float64\n",
      " 15  lum_2              611680 non-null  float64\n",
      " 16  lum_3              611680 non-null  float64\n",
      " 17  lum_4              611680 non-null  float64\n",
      " 18  lum_5              611680 non-null  float64\n",
      " 19  agg_1              611680 non-null  float64\n",
      " 20  agg_2              611680 non-null  float64\n",
      " 21  col_1.0            611680 non-null  float64\n",
      " 22  col_2.0            611680 non-null  float64\n",
      " 23  col_3.0            611680 non-null  float64\n",
      " 24  col_4.0            611680 non-null  float64\n",
      " 25  col_5.0            611680 non-null  float64\n",
      " 26  col_6.0            611680 non-null  float64\n",
      " 27  col_7.0            611680 non-null  float64\n",
      " 28  jour_semaine_1     611680 non-null  float64\n",
      " 29  jour_semaine_2     611680 non-null  float64\n",
      " 30  jour_semaine_3     611680 non-null  float64\n",
      " 31  jour_semaine_4     611680 non-null  float64\n",
      " 32  jour_semaine_5     611680 non-null  float64\n",
      " 33  jour_semaine_6     611680 non-null  float64\n",
      " 34  jour_semaine_7     611680 non-null  float64\n",
      " 35  catr_1.0           611680 non-null  float64\n",
      " 36  catr_2.0           611680 non-null  float64\n",
      " 37  catr_3.0           611680 non-null  float64\n",
      " 38  catr_4.0           611680 non-null  float64\n",
      " 39  catr_5.0           611680 non-null  float64\n",
      " 40  catr_6.0           611680 non-null  float64\n",
      " 41  catr_7.0           611680 non-null  float64\n",
      " 42  catr_9.0           611680 non-null  float64\n",
      " 43  circ_0.0           611680 non-null  float64\n",
      " 44  circ_1.0           611680 non-null  float64\n",
      " 45  circ_2.0           611680 non-null  float64\n",
      " 46  circ_3.0           611680 non-null  float64\n",
      " 47  circ_4.0           611680 non-null  float64\n",
      " 48  situ_0.0           611680 non-null  float64\n",
      " 49  situ_1.0           611680 non-null  float64\n",
      " 50  situ_2.0           611680 non-null  float64\n",
      " 51  situ_3.0           611680 non-null  float64\n",
      " 52  situ_4.0           611680 non-null  float64\n",
      " 53  situ_5.0           611680 non-null  float64\n",
      " 54  situ_6.0           611680 non-null  float64\n",
      " 55  situ_8.0           611680 non-null  float64\n",
      " 56  obsm_0.0           611680 non-null  float64\n",
      " 57  obsm_1.0           611680 non-null  float64\n",
      " 58  obsm_2.0           611680 non-null  float64\n",
      " 59  obsm_4.0           611680 non-null  float64\n",
      " 60  obsm_5.0           611680 non-null  float64\n",
      " 61  obsm_6.0           611680 non-null  float64\n",
      " 62  obsm_9.0           611680 non-null  float64\n",
      " 63  catu_1.0           611680 non-null  float64\n",
      " 64  catu_2.0           611680 non-null  float64\n",
      " 65  sexe_1.0           611680 non-null  float64\n",
      " 66  sexe_2.0           611680 non-null  float64\n",
      " 67  trajet_0.0         611680 non-null  float64\n",
      " 68  trajet_1.0         611680 non-null  float64\n",
      " 69  trajet_2.0         611680 non-null  float64\n",
      " 70  trajet_3.0         611680 non-null  float64\n",
      " 71  trajet_4.0         611680 non-null  float64\n",
      " 72  trajet_5.0         611680 non-null  float64\n",
      " 73  trajet_9.0         611680 non-null  float64\n",
      " 74  secu_combined_0.0  611680 non-null  float64\n",
      " 75  secu_combined_1.0  611680 non-null  float64\n",
      " 76  secu_combined_2.0  611680 non-null  float64\n",
      " 77  secu_combined_3.0  611680 non-null  float64\n",
      " 78  secu_combined_4.0  611680 non-null  float64\n",
      "dtypes: float64(76), int64(3)\n",
      "memory usage: 373.3 MB\n"
     ]
    }
   ],
   "source": [
    "#Frequency encoding pour X Train\n",
    "for var in var_freq:\n",
    "    # Calculer la fréquence de chaque catégorie\n",
    "    freq_encoding = X_train_enc_df[var].value_counts() / len(X_train_enc_df)\n",
    "    # Remplacer les catégories par leur fréquence\n",
    "    X_train_enc_df[var] = X_train_enc_df[var].map(freq_encoding)\n",
    "X_train_enc_df.info()"
   ]
  },
  {
   "cell_type": "code",
   "execution_count": 9,
   "id": "d253b767",
   "metadata": {},
   "outputs": [],
   "source": [
    "X_test_enc=enc_onehot.transform(X_test[var_onehot])\n",
    "X_test_enc_df = pd.DataFrame(X_test_enc, columns=enc_onehot.get_feature_names_out(var_onehot), index=X_test.index)\n",
    "\n",
    "# Concaténer avec le DataFrame original\n",
    "X_test_enc_df = pd.concat([X_test.drop(columns=var_onehot), X_test_enc_df], axis=1)"
   ]
  },
  {
   "cell_type": "code",
   "execution_count": 10,
   "id": "fb9bab61",
   "metadata": {},
   "outputs": [
    {
     "name": "stdout",
     "output_type": "stream",
     "text": [
      "<class 'pandas.core.frame.DataFrame'>\n",
      "Index: 152920 entries, 201800028911 to 202000028488\n",
      "Data columns (total 79 columns):\n",
      " #   Column             Non-Null Count   Dtype  \n",
      "---  ------             --------------   -----  \n",
      " 0   an                 152920 non-null  int64  \n",
      " 1   mois               152920 non-null  int64  \n",
      " 2   int                152920 non-null  float64\n",
      " 3   atm                152920 non-null  float64\n",
      " 4   dep                152920 non-null  float64\n",
      " 5   heure              152920 non-null  int64  \n",
      " 6   surf               152920 non-null  float64\n",
      " 7   infra              152920 non-null  float64\n",
      " 8   obs                152920 non-null  float64\n",
      " 9   choc               152920 non-null  float64\n",
      " 10  manv               152920 non-null  float64\n",
      " 11  catv_modifié       152920 non-null  float64\n",
      " 12  place              152920 non-null  float64\n",
      " 13  age                152920 non-null  float64\n",
      " 14  lum_1              152920 non-null  float64\n",
      " 15  lum_2              152920 non-null  float64\n",
      " 16  lum_3              152920 non-null  float64\n",
      " 17  lum_4              152920 non-null  float64\n",
      " 18  lum_5              152920 non-null  float64\n",
      " 19  agg_1              152920 non-null  float64\n",
      " 20  agg_2              152920 non-null  float64\n",
      " 21  col_1.0            152920 non-null  float64\n",
      " 22  col_2.0            152920 non-null  float64\n",
      " 23  col_3.0            152920 non-null  float64\n",
      " 24  col_4.0            152920 non-null  float64\n",
      " 25  col_5.0            152920 non-null  float64\n",
      " 26  col_6.0            152920 non-null  float64\n",
      " 27  col_7.0            152920 non-null  float64\n",
      " 28  jour_semaine_1     152920 non-null  float64\n",
      " 29  jour_semaine_2     152920 non-null  float64\n",
      " 30  jour_semaine_3     152920 non-null  float64\n",
      " 31  jour_semaine_4     152920 non-null  float64\n",
      " 32  jour_semaine_5     152920 non-null  float64\n",
      " 33  jour_semaine_6     152920 non-null  float64\n",
      " 34  jour_semaine_7     152920 non-null  float64\n",
      " 35  catr_1.0           152920 non-null  float64\n",
      " 36  catr_2.0           152920 non-null  float64\n",
      " 37  catr_3.0           152920 non-null  float64\n",
      " 38  catr_4.0           152920 non-null  float64\n",
      " 39  catr_5.0           152920 non-null  float64\n",
      " 40  catr_6.0           152920 non-null  float64\n",
      " 41  catr_7.0           152920 non-null  float64\n",
      " 42  catr_9.0           152920 non-null  float64\n",
      " 43  circ_0.0           152920 non-null  float64\n",
      " 44  circ_1.0           152920 non-null  float64\n",
      " 45  circ_2.0           152920 non-null  float64\n",
      " 46  circ_3.0           152920 non-null  float64\n",
      " 47  circ_4.0           152920 non-null  float64\n",
      " 48  situ_0.0           152920 non-null  float64\n",
      " 49  situ_1.0           152920 non-null  float64\n",
      " 50  situ_2.0           152920 non-null  float64\n",
      " 51  situ_3.0           152920 non-null  float64\n",
      " 52  situ_4.0           152920 non-null  float64\n",
      " 53  situ_5.0           152920 non-null  float64\n",
      " 54  situ_6.0           152920 non-null  float64\n",
      " 55  situ_8.0           152920 non-null  float64\n",
      " 56  obsm_0.0           152920 non-null  float64\n",
      " 57  obsm_1.0           152920 non-null  float64\n",
      " 58  obsm_2.0           152920 non-null  float64\n",
      " 59  obsm_4.0           152920 non-null  float64\n",
      " 60  obsm_5.0           152920 non-null  float64\n",
      " 61  obsm_6.0           152920 non-null  float64\n",
      " 62  obsm_9.0           152920 non-null  float64\n",
      " 63  catu_1.0           152920 non-null  float64\n",
      " 64  catu_2.0           152920 non-null  float64\n",
      " 65  sexe_1.0           152920 non-null  float64\n",
      " 66  sexe_2.0           152920 non-null  float64\n",
      " 67  trajet_0.0         152920 non-null  float64\n",
      " 68  trajet_1.0         152920 non-null  float64\n",
      " 69  trajet_2.0         152920 non-null  float64\n",
      " 70  trajet_3.0         152920 non-null  float64\n",
      " 71  trajet_4.0         152920 non-null  float64\n",
      " 72  trajet_5.0         152920 non-null  float64\n",
      " 73  trajet_9.0         152920 non-null  float64\n",
      " 74  secu_combined_0.0  152920 non-null  float64\n",
      " 75  secu_combined_1.0  152920 non-null  float64\n",
      " 76  secu_combined_2.0  152920 non-null  float64\n",
      " 77  secu_combined_3.0  152920 non-null  float64\n",
      " 78  secu_combined_4.0  152920 non-null  float64\n",
      "dtypes: float64(76), int64(3)\n",
      "memory usage: 93.3 MB\n"
     ]
    }
   ],
   "source": [
    "\n",
    "#Frequency encoding pour X test\n",
    "for var in var_freq:\n",
    "    # Calculer la fréquence de chaque catégorie\n",
    "    freq_encoding = X_test_enc_df[var].value_counts() / len(X_test_enc_df)\n",
    "    # Remplacer les catégories par leur fréquence\n",
    "    X_test_enc_df[var] = X_test_enc_df[var].map(freq_encoding)\n",
    "X_test_enc_df.info()\n"
   ]
  },
  {
   "cell_type": "code",
   "execution_count": null,
   "id": "5531fa66",
   "metadata": {
    "id": "5531fa66",
    "outputId": "73a3c3b0-8d05-4017-f2b6-bde2e9d5f1eb"
   },
   "outputs": [
    {
     "name": "stdout",
     "output_type": "stream",
     "text": [
      "train\n",
      "611680 79\n",
      "\n",
      "test\n",
      "152920 79\n"
     ]
    }
   ],
   "source": [
    "# Dimension de mon Dataframe nommé X_enc après encodage\n",
    "print('train')\n",
    "n_lignes, n_colonnes = X_train_enc_df.shape\n",
    "print(n_lignes, n_colonnes)\n",
    "print()\n",
    "print('test')\n",
    "n_lignes1, n_colonnes1 = X_test_enc_df.shape\n",
    "print(n_lignes1, n_colonnes1)\n",
    "\n",
    "# On observe que le nombre de colonne a augmenté (79 colonnes) donc l'encodage a bien été réalisé.\n",
    "# On est passé de 27 variables à 79 variables."
   ]
  },
  {
   "cell_type": "markdown",
   "id": "6721fdc7",
   "metadata": {
    "id": "6721fdc7"
   },
   "source": [
    "# Standardisation des données"
   ]
  },
  {
   "cell_type": "code",
   "execution_count": 12,
   "id": "67ae387b",
   "metadata": {
    "id": "67ae387b"
   },
   "outputs": [],
   "source": [
    "# Standardiser les données du Dataframe nommé X_enc\n",
    "scaler=StandardScaler()\n",
    "X_train_scaled=scaler.fit_transform(X_train_enc_df)\n",
    "X_test_scaled=scaler.transform(X_test_enc_df)"
   ]
  },
  {
   "cell_type": "markdown",
   "id": "d7c05a98",
   "metadata": {
    "id": "d7c05a98"
   },
   "source": [
    "# Rééchantillonage des données"
   ]
  },
  {
   "cell_type": "code",
   "execution_count": null,
   "id": "186afee9",
   "metadata": {
    "id": "186afee9"
   },
   "outputs": [],
   "source": [
    "# Rééchantillonnage des données avec la technique d'échantillonnage undersampling\n",
    "undersamp = RandomUnderSampler()\n",
    "X_train_undersamp, y_train_undersamp = undersamp.fit_resample(X_train_scaled, y_train)"
   ]
  },
  {
   "cell_type": "code",
   "execution_count": 15,
   "id": "df2f8aed",
   "metadata": {
    "id": "df2f8aed",
    "outputId": "1e3cf388-6270-4751-9fe2-3ca8830dce79"
   },
   "outputs": [
    {
     "data": {
      "text/plain": [
       "grav\n",
       "0.0    50.0\n",
       "1.0    50.0\n",
       "Name: proportion, dtype: float64"
      ]
     },
     "execution_count": 15,
     "metadata": {},
     "output_type": "execute_result"
    }
   ],
   "source": [
    "# On va vérifier que les classes sont rééquilibrées\n",
    "y_train_undersamp.value_counts(normalize=True)*100"
   ]
  },
  {
   "cell_type": "code",
   "execution_count": 14,
   "id": "85ce36dc",
   "metadata": {},
   "outputs": [],
   "source": [
    "# Mapping des classes pour affichage lisible\n",
    "y_label = {0: \"0 - Léger\", 1: \"1 - Grave\"}"
   ]
  },
  {
   "cell_type": "markdown",
   "id": "bb5f3a7c",
   "metadata": {
    "id": "bb5f3a7c"
   },
   "source": [
    "# Modèles testés"
   ]
  },
  {
   "cell_type": "markdown",
   "id": "923ffbc5",
   "metadata": {
    "id": "923ffbc5"
   },
   "source": [
    "1 : Regression Logsistique"
   ]
  },
  {
   "cell_type": "code",
   "execution_count": null,
   "id": "64e77ba4",
   "metadata": {},
   "outputs": [
    {
     "name": "stdout",
     "output_type": "stream",
     "text": [
      "Recall sur la classe 1 : 0.77\n",
      "\n",
      "Matrice de confusion\n",
      "\n",
      "Classe prédite  0 - Léger  1 - Grave\n",
      "Classe réelle                       \n",
      "0 - Léger           90844      36411\n",
      "1 - Grave            5791      19874 \n",
      "\n",
      "\n",
      "Rapport de classification \n",
      "\n",
      "              precision    recall  f1-score   support\n",
      "\n",
      "   0 - Léger       0.94      0.71      0.81    127255\n",
      "   1 - Grave       0.35      0.77      0.49     25665\n",
      "\n",
      "    accuracy                           0.72    152920\n",
      "   macro avg       0.65      0.74      0.65    152920\n",
      "weighted avg       0.84      0.72      0.76    152920\n",
      "\n"
     ]
    }
   ],
   "source": [
    "# Initialisation du modèle\n",
    "clf = LogisticRegression(max_iter=1000)\n",
    "clf.fit(X_train_undersamp, y_train_undersamp)\n",
    "\n",
    "# Prédictions\n",
    "y_pred = clf.predict(X_test_scaled)\n",
    "\n",
    "# Matrice de confusion avec labels\n",
    "y_pred_series = pd.Series(y_pred, index=y_test.index)\n",
    "y_test_named = y_test.replace(y_label)\n",
    "y_pred_named = y_pred_series.replace(y_label)\n",
    "\n",
    "# # Calcul du Recall pour la classe 1\n",
    "recall_classe_1 = recall_score(y_test, y_pred, pos_label=1)\n",
    "print(f\"Recall sur la classe 1 : {recall_classe_1:.2f}\\n\")\n",
    "\n",
    "# Matrice de confusion\n",
    "print(\"Matrice de confusion\\n\")\n",
    "confusion = pd.crosstab(\n",
    "    y_test_named, y_pred_named, \n",
    "    rownames=['Classe réelle'], \n",
    "    colnames=['Classe prédite']\n",
    ")\n",
    "print(confusion, \"\\n\")\n",
    "print('')\n",
    "\n",
    "# Rapport de classification \n",
    "print('Rapport de classification \\n')\n",
    "print(classification_report(y_test, y_pred, target_names=[\"0 - Léger\", \"1 - Grave\"]))"
   ]
  },
  {
   "cell_type": "markdown",
   "id": "befd34b4",
   "metadata": {},
   "source": [
    "1 : Regression Logsistique avec GridSearchCV et  hyperparamètres "
   ]
  },
  {
   "cell_type": "code",
   "execution_count": null,
   "id": "73bd6b7b",
   "metadata": {},
   "outputs": [
    {
     "name": "stdout",
     "output_type": "stream",
     "text": [
      "Fitting 3 folds for each of 48 candidates, totalling 144 fits\n",
      "\n",
      "Meilleurs paramètres trouvés :\n",
      "\n",
      "{'C': 0.01, 'class_weight': 'balanced', 'max_iter': 1000, 'penalty': 'l1', 'solver': 'liblinear'}\n",
      "\n",
      "Recall sur la classe 1 : 77.37 %\n",
      "\n",
      "\n",
      "Matrice de confusion\n",
      "\n",
      "classe prédite  0 - Léger  1 - Grave\n",
      "classe réelle                       \n",
      "0 - Léger           90839      36416\n",
      "1 - Grave            5807      19858\n",
      "\n",
      "Rapport de classification\n",
      "\n",
      "              precision    recall  f1-score   support\n",
      "\n",
      "   0 - Léger       0.94      0.71      0.81    127255\n",
      "   1 - Grave       0.35      0.77      0.48     25665\n",
      "\n",
      "    accuracy                           0.72    152920\n",
      "   macro avg       0.65      0.74      0.65    152920\n",
      "weighted avg       0.84      0.72      0.76    152920\n",
      "\n"
     ]
    }
   ],
   "source": [
    "# Définir la grille de paramètres\n",
    "param_grid = {\n",
    "    'penalty': ['l1', 'l2'],\n",
    "    'C': [0.01, 0.1, 1, 10],\n",
    "    'solver': ['liblinear', 'saga'],  \n",
    "    'max_iter': [1000],\n",
    "    'class_weight': ['balanced', {0: 2, 1: 1}, {0: 3, 1: 1}]\n",
    "}\n",
    "\n",
    "# Scoring Recall sur la classe 1\n",
    "scoring = make_scorer(recall_score, pos_label=1)\n",
    "\n",
    "# Initialisation du modèle\n",
    "clf = LogisticRegression()\n",
    "\n",
    "# GridSearchCV\n",
    "grid_search = GridSearchCV(\n",
    "    estimator=clf,\n",
    "    param_grid=param_grid,\n",
    "    scoring=scoring,\n",
    "    cv=3,\n",
    "    n_jobs=-1,\n",
    "    verbose=1\n",
    ")\n",
    "\n",
    "# Entraînement\n",
    "grid_search.fit(X_train_undersamp, y_train_undersamp)\n",
    "\n",
    "# Meilleurs paramètres\n",
    "print('\\nMeilleurs paramètres trouvés :\\n')\n",
    "print(grid_search.best_params_)\n",
    "\n",
    "# Affichage du meilleur modèle et de ses prédictions\n",
    "best_clf = grid_search.best_estimator_\n",
    "y_pred = best_clf.predict(X_test_scaled)\n",
    "\n",
    "y_pred_series = pd.Series(y_pred, index=y_test.index)\n",
    "y_test_named = y_test.replace(y_label)        \n",
    "y_pred_named = y_pred_series.replace(y_label)\n",
    "\n",
    "# Calcul du Recall sur la classe 1\n",
    "recall_classe_1 = recall_score(y_test, y_pred, pos_label=1)\n",
    "print(f\"Recall sur la classe 1 : {recall_classe_1:.2f}\\n\")\n",
    "\n",
    "# Matrice de confusion\n",
    "print('\\nMatrice de confusion\\n')\n",
    "print(pd.crosstab(y_test_named, y_pred_named, rownames=['classe réelle'], colnames=['classe prédite']))\n",
    "\n",
    "# Rapport de classification \n",
    "print('\\nRapport de classification\\n')\n",
    "print(classification_report(y_test, y_pred, target_names=[\"0 - Léger\", \"1 - Grave\"]))"
   ]
  },
  {
   "cell_type": "markdown",
   "id": "0880f99c",
   "metadata": {},
   "source": [
    "2 : Random Forest"
   ]
  },
  {
   "cell_type": "code",
   "execution_count": null,
   "id": "060899ba",
   "metadata": {},
   "outputs": [
    {
     "name": "stdout",
     "output_type": "stream",
     "text": [
      "Recall sur la classe 1 : 0.82\n",
      "\n",
      "\n",
      "Matrice de confusion\n",
      "\n",
      "classe prédite  0 - Léger  1 - Grave\n",
      "classe réelle                       \n",
      "0 - Léger           97788      29467\n",
      "1 - Grave            4728      20937\n",
      "\n",
      "Rapport de classification\n",
      "\n",
      "              precision    recall  f1-score   support\n",
      "\n",
      "   0 - Léger       0.95      0.77      0.85    127255\n",
      "   1 - Grave       0.42      0.82      0.55     25665\n",
      "\n",
      "    accuracy                           0.78    152920\n",
      "   macro avg       0.68      0.79      0.70    152920\n",
      "weighted avg       0.86      0.78      0.80    152920\n",
      "\n"
     ]
    }
   ],
   "source": [
    "# Initialisation du modèle \n",
    "rf = RandomForestClassifier(n_estimators=200, class_weight=\"balanced\", random_state=42)\n",
    "\n",
    "# Entraînement\n",
    "rf.fit(X_train_undersamp, y_train_undersamp)\n",
    "\n",
    "# Prédiction\n",
    "y_pred = rf.predict(X_test_scaled)\n",
    "\n",
    "y_pred_series = pd.Series(y_pred, index=y_test.index)\n",
    "y_test_named = y_test.replace(y_label)\n",
    "y_pred_named = y_pred_series.replace(y_label)\n",
    "\n",
    "# Calcul du Recall sur la classe 1\n",
    "recall_classe_1 = recall_score(y_test, y_pred, pos_label=1)\n",
    "print(f\"Recall sur la classe 1 : {recall_classe_1:.2f}\\n\")\n",
    "\n",
    "# Matrice de confusion \n",
    "print('\\nMatrice de confusion\\n')\n",
    "print(pd.crosstab(y_test_named, y_pred_named, rownames=['classe réelle'], colnames=['classe prédite']))\n",
    "\n",
    "# Rapport de classification \n",
    "print('\\nRapport de classification\\n')\n",
    "print(classification_report(y_test, y_pred, target_names=[\"0 - Léger\", \"1 - Grave\"]))"
   ]
  },
  {
   "cell_type": "markdown",
   "id": "24ef95fa",
   "metadata": {},
   "source": [
    "2 bis : Random forest avec RandomizedSearchCV et hyperparamètres "
   ]
  },
  {
   "cell_type": "code",
   "execution_count": null,
   "id": "af0d9c9a",
   "metadata": {},
   "outputs": [
    {
     "name": "stdout",
     "output_type": "stream",
     "text": [
      "Fitting 3 folds for each of 5 candidates, totalling 15 fits\n",
      "\n",
      "Meilleurs paramètres trouvés :\n",
      "\n",
      "{'n_estimators': 100, 'min_samples_split': 2, 'max_depth': None, 'class_weight': {0: 2, 1: 1}}\n",
      "\n",
      "Recall sur la classe 1 : 0.82\n",
      "\n",
      "\n",
      "Matrice de confusion\n",
      "\n",
      "classe prédite  0 - Léger  1 - Grave\n",
      "classe réelle                       \n",
      "0 - Léger           96922      30333\n",
      "1 - Grave            4647      21018\n",
      "\n",
      "Rapport de classification\n",
      "\n",
      "              precision    recall  f1-score   support\n",
      "\n",
      "   0 - Léger       0.95      0.76      0.85    127255\n",
      "   1 - Grave       0.41      0.82      0.55     25665\n",
      "\n",
      "    accuracy                           0.77    152920\n",
      "   macro avg       0.68      0.79      0.70    152920\n",
      "weighted avg       0.86      0.77      0.80    152920\n",
      "\n"
     ]
    }
   ],
   "source": [
    "# Définir la grille de paramètres \n",
    "param_grid_rf = {\n",
    "    'n_estimators': [50, 100],\n",
    "    'max_depth': [5, 10, 20, None],\n",
    "    'class_weight': ['balanced', {0: 2, 1: 1}],  \n",
    "    'min_samples_split': [2, 5, 10]\n",
    "}\n",
    "\n",
    "# Scoring Recall sur la classe 1\n",
    "scoring = make_scorer(recall_score, pos_label=1)\n",
    "\n",
    "# Initialisation du modèle de base \n",
    "rf = RandomForestClassifier(random_state=42)\n",
    "\n",
    "# Initialisation du RandomizedSearchCV\n",
    "random_search = RandomizedSearchCV(\n",
    "    estimator=rf,\n",
    "    param_distributions=param_grid_rf,\n",
    "    scoring=scoring,\n",
    "    cv=3,\n",
    "    n_jobs=-1,\n",
    "    n_iter=5,         \n",
    "    random_state=42,\n",
    "    verbose=1\n",
    ")\n",
    "\n",
    "# Entraînement\n",
    "random_search.fit(X_train_undersamp, y_train_undersamp)\n",
    "\n",
    "# Meilleurs paramètres \n",
    "print(\"\\nMeilleurs paramètres trouvés :\\n\")\n",
    "print(random_search.best_params_)\n",
    "\n",
    "# Affichage du meilleur modèle et de ses prédictions\n",
    "best_rf = random_search.best_estimator_\n",
    "y_pred = best_rf.predict(X_test_scaled)\n",
    "\n",
    "y_pred_series = pd.Series(y_pred, index=y_test.index)\n",
    "y_test_named = y_test.replace(y_label)\n",
    "y_pred_named = y_pred_series.replace(y_label)\n",
    "\n",
    "# Calcul du Recall sur la classe 1\n",
    "recall_classe_1 = recall_score(y_test, y_pred, pos_label=1)\n",
    "print(f\"\\nRecall sur la classe 1 : {recall_classe_1:.2f}\\n\")\n",
    "\n",
    "# Matrice de confusion\n",
    "print(\"\\nMatrice de confusion\\n\")\n",
    "print(pd.crosstab(y_test_named, y_pred_named, rownames=['classe réelle'], colnames=['classe prédite']))\n",
    "\n",
    "# Rapport de classification \n",
    "print(\"\\nRapport de classification\\n\")\n",
    "print(classification_report(y_test, y_pred, target_names=[\"0 - Léger\", \"1 - Grave\"]))\n"
   ]
  },
  {
   "cell_type": "markdown",
   "id": "4a6538e4",
   "metadata": {},
   "source": [
    "3 : KNN "
   ]
  },
  {
   "cell_type": "code",
   "execution_count": null,
   "id": "398b3427",
   "metadata": {},
   "outputs": [
    {
     "name": "stdout",
     "output_type": "stream",
     "text": [
      "\n",
      "Recall sur la classe 1 : 0.76\n",
      "\n",
      "Matrice de confusion :\n",
      "\n",
      " Classe prédite    0.0    1.0\n",
      "Classe réelle                \n",
      "0.0              89702  37553\n",
      "1.0               6252  19413 \n",
      "\n",
      "Rapport de classification :\n",
      "\n",
      "              precision    recall  f1-score   support\n",
      "\n",
      "   0 - Léger       0.93      0.70      0.80    127255\n",
      "   1 - Grave       0.34      0.76      0.47     25665\n",
      "\n",
      "    accuracy                           0.71    152920\n",
      "   macro avg       0.64      0.73      0.64    152920\n",
      "weighted avg       0.84      0.71      0.75    152920\n",
      "\n"
     ]
    }
   ],
   "source": [
    "# Définition du modèle\n",
    "knn = KNeighborsClassifier()\n",
    "\n",
    "# Entraînement du modèle\n",
    "knn.fit(X_train_undersamp, y_train_undersamp)\n",
    "\n",
    "# Prédictions\n",
    "y_pred = knn.predict(X_test_scaled)\n",
    "\n",
    "# Calcul du Recall sur la classe 1\n",
    "recall_classe_1 = recall_score(y_test, y_pred, pos_label=1)\n",
    "print(f\"\\nRecall sur la classe 1 : {recall_classe_1:.2f}\\n\")\n",
    "\n",
    "# Matrice de confusion\n",
    "print(\"Matrice de confusion :\\n\")\n",
    "print(pd.crosstab(y_test, y_pred, rownames=['Classe réelle'], colnames=[' Classe prédite']), \"\\n\")\n",
    "\n",
    "# Rapport de classification\n",
    "print(\"Rapport de classification :\\n\")\n",
    "print(classification_report(y_test, y_pred, target_names=[\"0 - Léger\", \"1 - Grave\"]))"
   ]
  },
  {
   "cell_type": "markdown",
   "id": "689fb57f",
   "metadata": {},
   "source": [
    "3 bis : KNN avec RandomizedSearchCV et hyperparamètres "
   ]
  },
  {
   "cell_type": "code",
   "execution_count": null,
   "id": "5bdaa6bc",
   "metadata": {},
   "outputs": [
    {
     "name": "stdout",
     "output_type": "stream",
     "text": [
      "Meilleurs paramètres : {'weights': 'distance', 'n_neighbors': 7, 'metric': 'manhattan'} \n",
      "\n",
      "\n",
      "Recall sur la classe 1 : 0.79\n",
      "\n",
      "Matrice de confusion \n",
      "\n",
      "classe prédite  0 - Léger  1 - Grave\n",
      "classe réelle                       \n",
      "0 - Léger           91919      35336\n",
      "1 - Grave            5467      20198 \n",
      "\n",
      "Rapport de classification \n",
      "\n",
      "              precision    recall  f1-score   support\n",
      "\n",
      "   0 - Léger       0.94      0.72      0.82    127255\n",
      "   1 - Grave       0.36      0.79      0.50     25665\n",
      "\n",
      "    accuracy                           0.73    152920\n",
      "   macro avg       0.65      0.75      0.66    152920\n",
      "weighted avg       0.85      0.73      0.76    152920\n",
      " \n",
      "\n"
     ]
    }
   ],
   "source": [
    "# Initialisation du modèle\n",
    "knn_under = KNeighborsClassifier()\n",
    "\n",
    "# Définition des hyperparamètres à tester\n",
    "param_grid = {\n",
    "    'n_neighbors': [3, 5 ,7, 9],  \n",
    "    'metric': ['minkowski', 'manhattan'],  \n",
    "    'weights': ['uniform', 'distance'] }\n",
    "\n",
    "# RandomizedSearchCV avec validation croisée\n",
    "random_search_under_knn = RandomizedSearchCV(knn_under, param_grid, cv=3, scoring='recall', n_jobs=-1, n_iter=5, random_state=42)\n",
    "random_search_under_knn.fit(X_train_undersamp, y_train_undersamp)\n",
    "\n",
    "# Affichage des meilleurs paramètres \n",
    "print(\"Meilleurs paramètres :\", random_search_under_knn.best_params_, \"\\n\")\n",
    "\n",
    "# Affichage du meilleur modèle et de ses prédictions\n",
    "best_knn = random_search_under_knn.best_estimator_\n",
    "y_pred_under_knn = best_knn.predict(X_test_scaled)\n",
    "\n",
    "y_pred_series = pd.Series(y_pred_under_knn, index=y_test.index)\n",
    "y_test_named = y_test.replace(y_label)\n",
    "y_pred_named = y_pred_series.replace(y_label)\n",
    "\n",
    "# Calcul du recall sur la classe 1\n",
    "recall_classe_1 = recall_score(y_test, y_pred_under_knn, pos_label=1)\n",
    "print(f\"\\nRecall sur la classe 1 : {recall_classe_1:.2f}\\n\")\n",
    "\n",
    "# Matrice de confusion lisible\n",
    "print(\"Matrice de confusion\", \"\\n\")\n",
    "print(pd.crosstab(y_test_named, y_pred_named, rownames=['classe réelle'], colnames=['classe prédite']), \"\\n\")\n",
    "\n",
    "# Classification report avec labels renommés\n",
    "print(\"Rapport de classification\", \"\\n\")\n",
    "print(classification_report(y_test, y_pred_under_knn, target_names=[\"0 - Léger\", \"1 - Grave\"]), \"\\n\")"
   ]
  },
  {
   "cell_type": "markdown",
   "id": "637b9fdd",
   "metadata": {},
   "source": [
    "4 - XGBoost avec GridSearchCV et hyperaramètres"
   ]
  },
  {
   "cell_type": "code",
   "execution_count": null,
   "id": "0fa293e9",
   "metadata": {},
   "outputs": [
    {
     "name": "stdout",
     "output_type": "stream",
     "text": [
      "Meilleurs paramètres : {'colsample_bytree': 1.0, 'learning_rate': 0.1, 'max_depth': 5, 'n_estimators': 100, 'subsample': 1.0} \n",
      "\n",
      "\n",
      "Recall sur la classe 1 : 0.91\n",
      "\n",
      "Matrice de confusion \n",
      "\n",
      "classe prédite  0 - Léger  1 - Grave\n",
      "classe réelle                       \n",
      "0 - Léger           52753      74502\n",
      "1 - Grave            2218      23447 \n",
      "\n",
      "Rapport de classification \n",
      "\n",
      "              precision    recall  f1-score   support\n",
      "\n",
      "   0 - Léger       0.96      0.41      0.58    127255\n",
      "   1 - Grave       0.24      0.91      0.38     25665\n",
      "\n",
      "    accuracy                           0.50    152920\n",
      "   macro avg       0.60      0.66      0.48    152920\n",
      "weighted avg       0.84      0.50      0.55    152920\n",
      " \n",
      "\n"
     ]
    }
   ],
   "source": [
    "# Initialisation du modèle\n",
    "xgb_clf = XGBClassifier()\n",
    "\n",
    "# Définition des hyperparamètres à tester\n",
    "param_grid = {\n",
    "    'learning_rate': [0.01, 0.1],\n",
    "    'max_depth': [3, 5],\n",
    "    'subsample': [0.8, 1.0],\n",
    "    'n_estimators': [50, 100],\n",
    "    'colsample_bytree': [0.7, 0.8, 1.0]\n",
    "}\n",
    "\n",
    "# GridSearchCV avec validation croisée\n",
    "grid_search_under_xgb = GridSearchCV(xgb_clf, param_grid, cv=3, scoring='recall', n_jobs=-1)\n",
    "grid_search_under_xgb.fit(X_train_undersamp, y_train_undersamp)\n",
    "\n",
    "# Affichage des meilleurs paramètres\n",
    "print(\"Meilleurs paramètres :\", grid_search_under_xgb.best_params_, \"\\n\")\n",
    "\n",
    "# Affichage du meilleur modèle et de ses prédictions\n",
    "best_xgb = grid_search_under_xgb.best_estimator_\n",
    "y_pred_under_xgb = best_xgb.predict(X_test_scaled)\n",
    "\n",
    "y_pred_series = pd.Series(y_pred_under_xgb, index=y_test.index)\n",
    "y_test_named = y_test.replace(y_label)\n",
    "y_pred_named = y_pred_series.replace(y_label)\n",
    "\n",
    "# Calcul du Recall sur la classe 1\n",
    "recall_classe_1 = recall_score(y_test, y_pred_under_xgb, pos_label=1)\n",
    "print(f\"\\nRecall sur la classe 1 : {recall_classe_1:.2f}\\n\")\n",
    "\n",
    "# Matrice de confusion \n",
    "print(\"Matrice de confusion\", \"\\n\")\n",
    "print(pd.crosstab(y_test_named, y_pred_named, rownames=['classe réelle'], colnames=['classe prédite']), \"\\n\")\n",
    "\n",
    "# Classification report avec labels renommés\n",
    "print(\"Rapport de classification\", \"\\n\")\n",
    "print(classification_report(y_test, y_pred_under_xgb, target_names=[\"0 - Léger\", \"1 - Grave\"]), \"\\n\")"
   ]
  },
  {
   "cell_type": "markdown",
   "id": "a098bc00",
   "metadata": {},
   "source": [
    "# Conclusion"
   ]
  },
  {
   "cell_type": "markdown",
   "id": "2e62f6ac",
   "metadata": {},
   "source": [
    "Dans ce notebook, le modèle le plus performant est le Random Forest avec recherche d’hyperparamètres, car il présente le meilleur équilibre entre les trois métriques étudiées pour ce projet : le rappel et la précision sur la classe 1, ainsi que la précision sur la classe 0.\n",
    "Nous allons maintenant analyser l’importance des différentes variables dans ce modèle.\n",
    "Nous afficherons les 10 variables les plus influentes, c’est-à-dire celles qui ont le plus contribué aux décisions du modèle, en particulier celles ayant un impact sur le rappel de la classe 1."
   ]
  },
  {
   "cell_type": "code",
   "execution_count": null,
   "id": "24373380",
   "metadata": {},
   "outputs": [],
   "source": [
    "# Récupérer l'importance de chaque variable, selon l'influence qu'elle a eue dans les prédictions du modèleRandom Forest\n",
    "importances = best_rf.feature_importances_\n",
    "\n",
    "# Associer chaque importance à sa variable\n",
    "feature_names = X_train_enc_df.columns\n",
    "feature_importance_df = pd.DataFrame({\n",
    "    'Feature': feature_names,\n",
    "    'Importance': importances\n",
    "})\n",
    "\n",
    "# Classer les variables selon leur importance décroissante dans le modèle\n",
    "feature_importance_df = feature_importance_df.sort_values(by='Importance', ascending=False)\n",
    "\n",
    "# Affichage du top 10 des variables les plus influentes\n",
    "print(\"Top 10 des variables significatives :\")\n",
    "print(feature_importance_df.head(10).to_string(index=False))\n",
    "\n",
    "#  Visualisation\n",
    "plt.figure(figsize=(10, 6))\n",
    "plt.barh(feature_importance_df['Feature'][:10][::-1], feature_importance_df['Importance'][:10][::-1])\n",
    "plt.xlabel(\"Importance\")\n",
    "plt.title(\"Top 10 variables les plus significatives (Random Forest)\")\n",
    "plt.tight_layout()\n",
    "plt.show()"
   ]
  },
  {
   "attachments": {
    "image.png": {
     "image/png": "[encoded data removed]"
    }
   },
   "cell_type": "markdown",
   "id": "d8876592",
   "metadata": {},
   "source": [
    "![image.png](attachment:image.png)"
   ]
  }
 ],
 "metadata": {
  "colab": {
   "provenance": []
  },
  "kernelspec": {
   "display_name": "base",
   "language": "python",
   "name": "python3"
  },
  "language_info": {
   "codemirror_mode": {
    "name": "ipython",
    "version": 3
   },
   "file_extension": ".py",
   "mimetype": "text/x-python",
   "name": "python",
   "nbconvert_exporter": "python",
   "pygments_lexer": "ipython3",
   "version": "3.11.7"
  }
 },
 "nbformat": 4,
 "nbformat_minor": 5
}
